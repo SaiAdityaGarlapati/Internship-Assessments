{
 "cells": [
  {
   "cell_type": "code",
   "execution_count": 1,
   "metadata": {},
   "outputs": [
    {
     "name": "stderr",
     "output_type": "stream",
     "text": [
      "Using TensorFlow backend.\n"
     ]
    }
   ],
   "source": [
    "#Loading a model from storage and testing it out\n",
    "from keras.models import model_from_json\n"
   ]
  },
  {
   "cell_type": "code",
   "execution_count": 2,
   "metadata": {},
   "outputs": [
    {
     "name": "stdout",
     "output_type": "stream",
     "text": [
      "Loaded model from disk\n"
     ]
    }
   ],
   "source": [
    "json_file=open('abmodel.json','r')\n",
    "loaded_model_json=json_file.read()\n",
    "json_file.close()\n",
    "model=model_from_json(loaded_model_json)\n",
    "model.load_weights('abmodel.h5')\n",
    "print(\"Loaded model from disk\")"
   ]
  },
  {
   "cell_type": "code",
   "execution_count": 3,
   "metadata": {},
   "outputs": [],
   "source": [
    "import numpy as np\n",
    "from keras.preprocessing import image"
   ]
  },
  {
   "cell_type": "code",
   "execution_count": 4,
   "metadata": {},
   "outputs": [],
   "source": [
    "# model predictor function for reusability\n",
    "path3 ='E:/Datasets/CT Scan data of Lungs/validation/'\n",
    "def class_predictor(img_name):\n",
    "    test_image= image.load_img(path3+img_name\n",
    "                           ,target_size =(64,64))\n",
    "    test_image = image.img_to_array(test_image)\n",
    "    test_image = np.expand_dims(test_image,axis = 0)\n",
    "    result = model.predict(test_image)\n",
    "    if result[0][0] == 1:\n",
    "        prediction = 'non-malignant'\n",
    "    else:\n",
    "        prediction = 'malignant'\n",
    "        \n",
    "    return prediction"
   ]
  },
  {
   "cell_type": "code",
   "execution_count": 5,
   "metadata": {},
   "outputs": [
    {
     "data": {
      "text/plain": [
       "['malignant',\n",
       " 'malignant',\n",
       " 'malignant',\n",
       " 'malignant',\n",
       " 'non-malignant',\n",
       " 'non-malignant',\n",
       " 'non-malignant',\n",
       " 'non-malignant',\n",
       " 'malignant',\n",
       " 'malignant',\n",
       " 'non-malignant',\n",
       " 'non-malignant',\n",
       " 'non-malignant',\n",
       " 'malignant',\n",
       " 'malignant',\n",
       " 'malignant',\n",
       " 'non-malignant',\n",
       " 'malignant',\n",
       " 'malignant',\n",
       " 'malignant',\n",
       " 'malignant',\n",
       " 'malignant',\n",
       " 'malignant',\n",
       " 'malignant',\n",
       " 'non-malignant',\n",
       " 'malignant',\n",
       " 'malignant',\n",
       " 'non-malignant',\n",
       " 'non-malignant',\n",
       " 'non-malignant',\n",
       " 'non-malignant',\n",
       " 'malignant',\n",
       " 'malignant',\n",
       " 'malignant',\n",
       " 'non-malignant',\n",
       " 'non-malignant',\n",
       " 'malignant',\n",
       " 'malignant',\n",
       " 'malignant',\n",
       " 'malignant',\n",
       " 'malignant',\n",
       " 'malignant',\n",
       " 'non-malignant',\n",
       " 'non-malignant',\n",
       " 'malignant',\n",
       " 'non-malignant',\n",
       " 'malignant',\n",
       " 'malignant',\n",
       " 'non-malignant',\n",
       " 'non-malignant']"
      ]
     },
     "execution_count": 5,
     "metadata": {},
     "output_type": "execute_result"
    }
   ],
   "source": [
    "l=[]\n",
    "import os\n",
    "for i in os.listdir(path3):\n",
    "    l.append(class_predictor(str(i)))\n",
    "\n",
    "l"
   ]
  },
  {
   "cell_type": "code",
   "execution_count": 6,
   "metadata": {},
   "outputs": [
    {
     "data": {
      "text/plain": [
       "0.54"
      ]
     },
     "execution_count": 6,
     "metadata": {},
     "output_type": "execute_result"
    }
   ],
   "source": [
    "import pandas as pd\n",
    "verify = pd.read_csv('E:/Datasets/CT Scan data of Lungs/validation.csv')\n",
    "from sklearn.metrics import accuracy_score\n",
    "\n",
    "accuracy_score(l,verify['cancer status'])"
   ]
  }
 ],
 "metadata": {
  "kernelspec": {
   "display_name": "Python 3",
   "language": "python",
   "name": "python3"
  },
  "language_info": {
   "codemirror_mode": {
    "name": "ipython",
    "version": 3
   },
   "file_extension": ".py",
   "mimetype": "text/x-python",
   "name": "python",
   "nbconvert_exporter": "python",
   "pygments_lexer": "ipython3",
   "version": "3.6.8"
  }
 },
 "nbformat": 4,
 "nbformat_minor": 2
}
